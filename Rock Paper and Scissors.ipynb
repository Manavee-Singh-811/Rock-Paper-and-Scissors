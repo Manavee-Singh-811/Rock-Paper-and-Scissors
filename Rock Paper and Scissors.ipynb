{
 "cells": [
  {
   "cell_type": "markdown",
   "id": "c56964ac",
   "metadata": {},
   "source": [
    "# Rock Paper Scissors"
   ]
  },
  {
   "cell_type": "code",
   "execution_count": 1,
   "id": "58d853bf",
   "metadata": {},
   "outputs": [
    {
     "name": "stdout",
     "output_type": "stream",
     "text": [
      "Welcome to Rock, Paper and Scissors\n",
      "\n"
     ]
    }
   ],
   "source": [
    "print(\"Welcome to Rock, Paper and Scissors\\n\")"
   ]
  },
  {
   "cell_type": "code",
   "execution_count": 2,
   "id": "99c17290",
   "metadata": {},
   "outputs": [],
   "source": [
    "rock=\"\"\"\n",
    "    _______\n",
    "---'   ____)\n",
    "      (_____)\n",
    "      (_____)\n",
    "      (____)\n",
    "---.__(___)\n",
    "\"\"\"\n",
    "paper=\"\"\"\n",
    "     _______\n",
    "---'    ____)____\n",
    "           ______)\n",
    "          _______)\n",
    "         _______)\n",
    "---.__________)\n",
    "\"\"\"\n",
    "\n",
    "scissors=\"\"\"\n",
    "    _______\n",
    "---'   ____)____\n",
    "          ______)\n",
    "       __________)\n",
    "      (____)\n",
    "---.__(___)\n",
    "\"\"\""
   ]
  },
  {
   "cell_type": "code",
   "execution_count": 3,
   "id": "689e49b9",
   "metadata": {},
   "outputs": [],
   "source": [
    "import random"
   ]
  },
  {
   "cell_type": "code",
   "execution_count": 4,
   "id": "d807e6f0",
   "metadata": {},
   "outputs": [
    {
     "name": "stdout",
     "output_type": "stream",
     "text": [
      "Type 0 for rock, 1 for paper, 2 for scissors. 2\n",
      "U chose \n",
      "    _______\n",
      "---'   ____)____\n",
      "          ______)\n",
      "       __________)\n",
      "      (____)\n",
      "---.__(___)\n",
      "\n",
      "Opponent chose \n",
      "     _______\n",
      "---'    ____)____\n",
      "           ______)\n",
      "          _______)\n",
      "         _______)\n",
      "---.__________)\n",
      "\n",
      "U win.\n"
     ]
    }
   ],
   "source": [
    "user=int(input(\"Type 0 for rock, 1 for paper, 2 for scissors. \"))\n",
    "computer = random.choice([0,1,2])\n",
    "choices=[rock, paper, scissors]\n",
    "if user in [0,1,2]:\n",
    "    print(\"U chose\",choices[user])\n",
    "    print(\"Opponent chose\", choices[computer])\n",
    "\n",
    "    if user==computer:\n",
    "        print(\"It's a draw\")\n",
    "    elif (user==1 and computer==0) or  (user==2 and computer==1) or (user==0 and computer==2):\n",
    "        print(\"U win.\")\n",
    "    else:\n",
    "        print(\"U lose\")\n",
    "else:\n",
    "    print(\"Invalid Input\")"
   ]
  }
 ],
 "metadata": {
  "kernelspec": {
   "display_name": "Python 3 (ipykernel)",
   "language": "python",
   "name": "python3"
  },
  "language_info": {
   "codemirror_mode": {
    "name": "ipython",
    "version": 3
   },
   "file_extension": ".py",
   "mimetype": "text/x-python",
   "name": "python",
   "nbconvert_exporter": "python",
   "pygments_lexer": "ipython3",
   "version": "3.9.7"
  }
 },
 "nbformat": 4,
 "nbformat_minor": 5
}
